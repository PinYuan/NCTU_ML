{
 "cells": [
  {
   "cell_type": "code",
   "execution_count": 1,
   "metadata": {},
   "outputs": [],
   "source": [
    "import pandas as pd\n",
    "import numpy as np\n",
    "from itertools import combinations_with_replacement, combinations\n",
    "import matplotlib.pyplot as plt\n",
    "import math\n",
    "\n",
    "pd.options.display.max_rows = 10\n",
    "pd.options.display.float_format = '{:.1f}'.format"
   ]
  },
  {
   "cell_type": "markdown",
   "metadata": {},
   "source": [
    "首先我對資料有做shuffle，避免資料有按照某種順序做排序，另外我對資料做標準化的動作。"
   ]
  },
  {
   "cell_type": "code",
   "execution_count": 2,
   "metadata": {},
   "outputs": [],
   "source": [
    "california_housing_dataframe = pd.read_csv(\"housing.csv\")\n",
    "california_housing_dataframe = (california_housing_dataframe-california_housing_dataframe.mean())/california_housing_dataframe.std()\n",
    "california_housing_dataframe = california_housing_dataframe.reindex(\n",
    "    np.random.permutation(california_housing_dataframe.index))\n",
    "\n",
    "selected_features =  [\"total_rooms\", \"population\", \"median_income\"]\n",
    "target_features = [\"median_house_value\"]\n",
    "\n",
    "training_examples = california_housing_dataframe.head(int(california_housing_dataframe.shape[0]*0.9))\n",
    "training_x = training_examples[selected_features].values\n",
    "training_y = training_examples[target_features].values\n",
    "\n",
    "testing_examples = california_housing_dataframe.tail(int(california_housing_dataframe.shape[0]*0.1))\n",
    "testing_x = testing_examples[selected_features].values\n",
    "testing_y = testing_examples[target_features].values"
   ]
  },
  {
   "cell_type": "code",
   "execution_count": 3,
   "metadata": {},
   "outputs": [],
   "source": [
    "def my_inverse_matrix(matrix):\n",
    "    dimension = matrix.shape[0]\n",
    "    diagnoal = np.eye(dimension, dtype=float) \n",
    "    \n",
    "    for d in range(dimension):\n",
    "        temp = matrix[d][d]\n",
    "        for c in range(dimension):\n",
    "            matrix[d][c] = matrix[d][c]/temp\n",
    "            diagnoal[d][c] = diagnoal[d][c]/temp\n",
    "        for r in range(dimension):\n",
    "            mu = -matrix[r][d]\n",
    "            if r != d:\n",
    "                for c in range(dimension):\n",
    "                    matrix[r][c] = matrix[d][c] * mu + matrix[r][c]\n",
    "                    diagnoal[r][c] = diagnoal[d][c]*mu + diagnoal[r][c]\n",
    "    return diagnoal"
   ]
  },
  {
   "cell_type": "code",
   "execution_count": 4,
   "metadata": {},
   "outputs": [],
   "source": [
    "class RegressionModel:\n",
    "    def __init__(self, M=3, feature_num=3): \n",
    "        self.M = M\n",
    "        self.feature_num = feature_num\n",
    "    \n",
    "    def RMSE(self, x, w, t):\n",
    "        y = np.dot(x, w)\n",
    "        return math.sqrt(np.mean((y - t) ** 2))\n",
    "        \n",
    "    def train(self, x, y, regularize=False, _lambda=1):\n",
    "        if not regularize:\n",
    "        # 推導： https://zhuanlan.zhihu.com/p/33899560\n",
    "        # w = (xT x)^(-1) xT y\n",
    "            xTx = np.dot(x.T, x)\n",
    "            tmp = my_inverse_matrix(xTx)\n",
    "            w = np.dot(np.dot(tmp, x.T), y) \n",
    "        else: \n",
    "        # 推導： https://blog.csdn.net/coolluyu/article/details/20214617\n",
    "        # w = (lambdaI + xT x)^(-1) xT y\n",
    "            xTx = np.dot(x.T, x)\n",
    "            tmp = my_inverse_matrix(np.eye(xTx.shape[0]) * _lambda + xTx)\n",
    "            w = np.dot(np.dot(tmp, x.T), y) \n",
    "        return w\n",
    "    \n",
    "    def preprocess_x(self, x):\n",
    "        # http://www.csie.ntnu.edu.tw/~u91029/Regression.html#3\n",
    "        new_x = np.full((len(x), 1), 1)\n",
    "        \n",
    "        for order in range(1, self.M+1):\n",
    "            for comb in list(combinations_with_replacement(range(self.feature_num), order)):\n",
    "                p = np.expand_dims(np.prod(x[:, comb], axis=1), axis=1)\n",
    "                new_x = np.concatenate((new_x, p), axis=1)\n",
    "        return new_x\n",
    "    "
   ]
  },
  {
   "cell_type": "markdown",
   "metadata": {},
   "source": [
    "## Problem 3-1  apply the polynomials of order M = 1 to M = 3 over the 3-dimensional input data\n",
    "1. Evaluate the corresponding Root-Mean-Square error (ERMS = root(2E(w)/N) ) on the Training Set and Test Set \n",
    "2. Plot their RMS error versus order M .\n",
    "3. Describe in details about what you see in the plot."
   ]
  },
  {
   "cell_type": "code",
   "execution_count": 5,
   "metadata": {
    "scrolled": true
   },
   "outputs": [
    {
     "data": {
      "image/png": "[encoded data removed]",
      "text/plain": [
       "<Figure size 432x288 with 1 Axes>"
      ]
     },
     "metadata": {
      "needs_background": "light"
     },
     "output_type": "display_data"
    },
    {
     "name": "stdout",
     "output_type": "stream",
     "text": [
      "M=1, training error: 0.735338, testing error: 0.616191\n",
      "M=2, training error: 0.721775, testing error: 0.625101\n",
      "M=3, training error: 0.712586, testing error: 0.608078\n",
      "M=4, training error: 0.707082, testing error: 0.918149\n",
      "M=5, training error: 0.702049, testing error: 1.570390\n"
     ]
    }
   ],
   "source": [
    "train_RMSE = []\n",
    "test_RMSE = []\n",
    "\n",
    "M_max = 5\n",
    "\n",
    "for m in range(1, M_max+1):\n",
    "    RM = RegressionModel(M=m, feature_num=3)\n",
    "    \n",
    "    new_training_x = RM.preprocess_x(training_x)\n",
    "    w = RM.train(new_training_x, training_y)\n",
    "    _RMSE = RM.RMSE(new_training_x, w, training_y)\n",
    "    train_RMSE.append(_RMSE)\n",
    "    \n",
    "    new_testing_x = RM.preprocess_x(testing_x)\n",
    "    _RMSE = RM.RMSE(new_testing_x, w, testing_y)\n",
    "    test_RMSE.append(_RMSE)\n",
    "    \n",
    "plt.plot([i for i in range(1, M_max+1)], train_RMSE, '-bo', label='training')\n",
    "plt.plot([i for i in range(1, M_max+1)], test_RMSE, '-ro', label='testing')\n",
    "\n",
    "plt.legend(loc='best')\n",
    "plt.xlabel('M')\n",
    "plt.ylabel('RMSE')\n",
    "plt.show()\n",
    "\n",
    "for i in range(1, M_max+1):\n",
    "    print(\"M=%d, training error: %f, testing error: %f\" % (i, train_RMSE[i-1], test_RMSE[i-1]))"
   ]
  },
  {
   "cell_type": "markdown",
   "metadata": {},
   "source": [
    "這個dataset很剛好的在一開始對testing data fit的很好，因為理論上應當training data的RMSE要比testing data來的低，但是在M=4之後明顯誤差值往上飆高，原因是對training data更加的fit以至於對於testing data誤差會更大。而training data的部份呈現不斷遞減。"
   ]
  },
  {
   "cell_type": "markdown",
   "metadata": {},
   "source": [
    "### Problem 3-2 Select the most contributive attribute or dimension which has the lowest RMS error on the Training Set"
   ]
  },
  {
   "cell_type": "code",
   "execution_count": 6,
   "metadata": {
    "scrolled": true
   },
   "outputs": [
    {
     "name": "stdout",
     "output_type": "stream",
     "text": [
      "Dimension: 2, Attribute_indexes:  [0, 1] \n",
      "RMSE:  0.9327096193022578\n",
      "\n",
      "Dimension: 2, Attribute_indexes:  [0, 2] \n",
      "RMSE:  0.7270082413880575\n",
      "\n",
      "Dimension: 2, Attribute_indexes:  [1, 2] \n",
      "RMSE:  0.7255938183712136\n",
      "\n"
     ]
    }
   ],
   "source": [
    "for feature_index_comb in list(combinations(range(0, 3), 2)): \n",
    "    RM = RegressionModel(M=3, feature_num=len(feature_index_comb))\n",
    "\n",
    "    new_training_x = RM.preprocess_x(training_x[:, list(feature_index_comb)])\n",
    "    w = RM.train(new_training_x, training_y)\n",
    "    _RMSE = RM.RMSE(new_training_x, w, training_y)\n",
    "\n",
    "    print(\"Dimension: %d, Attribute_indexes: \" % (2), list(feature_index_comb), \"\\nRMSE: \", _RMSE)\n",
    "    print()"
   ]
  },
  {
   "cell_type": "markdown",
   "metadata": {},
   "source": [
    "從三種attribute任選兩個所組合出來的結果，可以看出用total_rooms, population所組合出來的結果誤差值是最高的。\n",
    "因此可以得知median_income會是最有貢獻的attribute。"
   ]
  },
  {
   "cell_type": "markdown",
   "metadata": {},
   "source": [
    "### Problem 3-3  Set two values for regularization parameter as λ = 0.1 and λ = 0.001 and repeat part 1\n",
    "1. RMSE = root(2E(w)/N) is calculated using E(w) not E(w) hat\n",
    "2. Plot the regularized regression result on Training Set and Testing Set for various order M from 1 to 3. Compare the result with different λ\n",
    "3. Describe the difference between part 1 and part 3."
   ]
  },
  {
   "cell_type": "code",
   "execution_count": 7,
   "metadata": {},
   "outputs": [
    {
     "name": "stdout",
     "output_type": "stream",
     "text": [
      "M=1, training error: 0.735338, testing error: 0.616192\n",
      "M=2, training error: 0.721775, testing error: 0.625097\n",
      "M=3, training error: 0.712586, testing error: 0.608074\n",
      "M=4, training error: 0.707082, testing error: 0.917825\n",
      "M=5, training error: 0.702049, testing error: 1.569162\n"
     ]
    },
    {
     "data": {
      "image/png": "[encoded data removed]",
      "text/plain": [
       "<Figure size 432x288 with 1 Axes>"
      ]
     },
     "metadata": {
      "needs_background": "light"
     },
     "output_type": "display_data"
    },
    {
     "name": "stdout",
     "output_type": "stream",
     "text": [
      "M=1, training error: 0.735338, testing error: 0.616191\n",
      "M=2, training error: 0.721775, testing error: 0.625101\n",
      "M=3, training error: 0.712586, testing error: 0.608078\n",
      "M=4, training error: 0.707082, testing error: 0.918146\n",
      "M=5, training error: 0.702049, testing error: 1.570378\n"
     ]
    },
    {
     "data": {
      "image/png": "[encoded data removed]",
      "text/plain": [
       "<Figure size 432x288 with 1 Axes>"
      ]
     },
     "metadata": {
      "needs_background": "light"
     },
     "output_type": "display_data"
    }
   ],
   "source": [
    "lambdas = [0.1, 0.001] \n",
    "M_max = 5\n",
    "\n",
    "for i, _lambda in enumerate(lambdas):\n",
    "#     plt.subplot(2, 2, i+1)\n",
    "    fig = plt.figure()\n",
    "    title = \"Regularizd error function lambda: \"+str(_lambda)\n",
    "    fig.suptitle(title, fontsize=16)\n",
    "    train_RMSE = []\n",
    "    test_RMSE = []\n",
    "    \n",
    "    for m in range(1, M_max+1):\n",
    "        RM = RegressionModel(M=m, feature_num=3)\n",
    "\n",
    "        new_training_x = RM.preprocess_x(training_x)\n",
    "        w = RM.train(new_training_x, training_y, True, _lambda)\n",
    "        _RMSE = RM.RMSE(new_training_x, w, training_y)\n",
    "        train_RMSE.append(_RMSE)\n",
    "\n",
    "        new_testing_x = RM.preprocess_x(testing_x)\n",
    "        _RMSE = RM.RMSE(new_testing_x, w, testing_y)\n",
    "        test_RMSE.append(_RMSE)\n",
    "    \n",
    "    for i in range(1, M_max+1):\n",
    "        print(\"M=%d, training error: %f, testing error: %f\" % (i, train_RMSE[i-1], test_RMSE[i-1]))\n",
    "    \n",
    "    plt.plot([i for i in range(1, M_max+1)], train_RMSE, '-bo', label='training')\n",
    "    plt.plot([i for i in range(1, M_max+1)], test_RMSE, '-ro', label='testing')\n",
    "\n",
    "    plt.legend(loc='best')\n",
    "    plt.xlabel('M')\n",
    "    plt.ylabel('REMS')\n",
    "    \n",
    "#     plt.tight_layout()\n",
    "    plt.show()"
   ]
  },
  {
   "cell_type": "markdown",
   "metadata": {},
   "source": [
    "Regularized error function的用意是在於為了避免overfit的狀況產生，所以加上懲罰項。\n",
    "但以M:1~3做訓練，由於誤差值本身很高，所以不存在overfit的問題，因此加上regularize term並不會有顯著的效果。"
   ]
  }
 ],
 "metadata": {
  "kernelspec": {
   "display_name": "Python 3",
   "language": "python",
   "name": "python3"
  },
  "language_info": {
   "codemirror_mode": {
    "name": "ipython",
    "version": 3
   },
   "file_extension": ".py",
   "mimetype": "text/x-python",
   "name": "python",
   "nbconvert_exporter": "python",
   "pygments_lexer": "ipython3",
   "version": "3.5.2"
  }
 },
 "nbformat": 4,
 "nbformat_minor": 2
}
