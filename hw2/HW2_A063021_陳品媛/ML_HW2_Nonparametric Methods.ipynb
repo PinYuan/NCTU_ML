{
 "cells": [
  {
   "cell_type": "code",
   "execution_count": 1,
   "metadata": {},
   "outputs": [],
   "source": [
    "import pandas as pd\n",
    "import numpy as np\n",
    "from collections import defaultdict\n",
    "import matplotlib.pyplot as plt"
   ]
  },
  {
   "cell_type": "code",
   "execution_count": 2,
   "metadata": {},
   "outputs": [],
   "source": [
    "data = pd.read_csv('data/seeds.csv')"
   ]
  },
  {
   "cell_type": "code",
   "execution_count": 3,
   "metadata": {},
   "outputs": [],
   "source": [
    "class KNN():\n",
    "    def __init__(self, K):\n",
    "        self.K = K\n",
    "        \n",
    "    def preprocess(self, data):\n",
    "        feature = data.iloc[:, :-1]\n",
    "        target = data.iloc[:, -1]\n",
    "        feature = (feature-feature.mean()) / feature.std()\n",
    "        return feature, target\n",
    "    \n",
    "    def train_test_split(self, feature, target):\n",
    "        train_x = pd.concat([feature.iloc[0:50], feature.iloc[70:120], feature.iloc[140:190]]).values\n",
    "        train_t = pd.concat([target.iloc[0:50], target.iloc[70:120], target.iloc[140:190]]).values\n",
    "\n",
    "        test_x = pd.concat([feature.iloc[50:70], feature.iloc[120:140], feature.iloc[190:210]]).values\n",
    "        test_t = pd.concat([target.iloc[50:70], target.iloc[120:140], target.iloc[190:210]]).values\n",
    "        \n",
    "        return train_x, train_t, test_x, test_t\n",
    "    \n",
    "    def inference(self, train_x, train_t, test_x):\n",
    "        distances = np.zeros([test_x.shape[0], train_x.shape[0]])\n",
    "        for n in range(test_x.shape[0]):\n",
    "            distances[n] = np.linalg.norm(train_x - test_x[n], axis=1)\n",
    "        return distances\n",
    "        \n",
    "    def classify(self, distances, train_t):\n",
    "        test_y = np.zeros(distances.shape[0])\n",
    "        for n in range(distances.shape[0]):\n",
    "            c = defaultdict(lambda: 0)\n",
    "            for index in np.argpartition(-distances[n], -self.K)[-self.K:]:\n",
    "                c[train_t[index]] += 1\n",
    "            test_y[n] = sorted(list(c.items()), key=lambda x: -x[1])[0][0]\n",
    "        return test_y\n",
    "        \n",
    "    def hit_accuracy(self, y, t):\n",
    "        return np.count_nonzero((y-t) == 0) / y.shape[0]"
   ]
  },
  {
   "cell_type": "markdown",
   "metadata": {},
   "source": [
    "# 1. K-Nearest-Neighbor Classifier"
   ]
  },
  {
   "cell_type": "code",
   "execution_count": 4,
   "metadata": {},
   "outputs": [
    {
     "data": {
      "image/png": "[encoded data removed]",
      "text/plain": [
       "<Figure size 432x288 with 1 Axes>"
      ]
     },
     "metadata": {
      "needs_background": "light"
     },
     "output_type": "display_data"
    }
   ],
   "source": [
    "accuracy_list = []\n",
    "\n",
    "for _K in range(1, 11):\n",
    "    KNNM = KNN(K=_K)\n",
    "    feature, target = KNNM.preprocess(data)\n",
    "    train_x, train_t, test_x, test_t = KNNM.train_test_split(feature, target)\n",
    "    distances = KNNM.inference(train_x, train_t, test_x)\n",
    "    test_y = KNNM.classify(distances, train_t)\n",
    "\n",
    "    accuracy = KNNM.hit_accuracy(test_y, test_t)\n",
    "    accuracy_list.append(accuracy)\n",
    "    \n",
    "plt.plot([K for K in range(1, 11)], accuracy_list)\n",
    "plt.xlabel('epoch number')\n",
    "plt.ylabel('accuracy')\n",
    "plt.show()"
   ]
  },
  {
   "cell_type": "code",
   "execution_count": 5,
   "metadata": {},
   "outputs": [],
   "source": [
    "class Kernel():\n",
    "    def __init__(self, V):\n",
    "        self.V = V\n",
    "    \n",
    "    def preprocess(self, data):\n",
    "        feature = data.iloc[:, :-1]\n",
    "        target = data.iloc[:, -1]\n",
    "        feature = (feature-feature.mean()) / feature.std()\n",
    "        return feature, target\n",
    "    \n",
    "    def train_test_split(self, feature, target):\n",
    "        train_x = pd.concat([feature.iloc[0:50], feature.iloc[70:120], feature.iloc[140:190]]).values\n",
    "        train_t = pd.concat([target.iloc[0:50], target.iloc[70:120], target.iloc[140:190]]).values\n",
    "\n",
    "        test_x = pd.concat([feature.iloc[50:70], feature.iloc[120:140], feature.iloc[190:210]]).values\n",
    "        test_t = pd.concat([target.iloc[50:70], target.iloc[120:140], target.iloc[190:210]]).values\n",
    "        \n",
    "        return train_x, train_t, test_x, test_t\n",
    "    \n",
    "    def inference(self, train_x, train_t, test_x):\n",
    "        distances = np.zeros([test_x.shape[0], train_x.shape[0]])\n",
    "        for n in range(test_x.shape[0]):\n",
    "            distances[n] = np.linalg.norm(train_x - test_x[n], axis=1)\n",
    "        return distances\n",
    "        \n",
    "    def classify(self, distances, train_t):\n",
    "        test_y = np.zeros(distances.shape[0])\n",
    "        for n in range(distances.shape[0]):\n",
    "            c = defaultdict(lambda: 0)\n",
    "            for index in range(distances[n].shape[0]):\n",
    "                if distances[n][index] < self.V:\n",
    "                    c[train_t[index]] += 1\n",
    "            test_y[n] = sorted(list(c.items()), key=lambda x: -x[1])[0][0]\n",
    "        return test_y\n",
    "        \n",
    "    def hit_accuracy(self, y, t):\n",
    "        return np.count_nonzero((y-t) == 0) / y.shape[0]"
   ]
  },
  {
   "cell_type": "markdown",
   "metadata": {},
   "source": [
    "# 2. Alternative solution by fixing the distance and determining the K from training data"
   ]
  },
  {
   "cell_type": "code",
   "execution_count": 6,
   "metadata": {},
   "outputs": [
    {
     "data": {
      "image/png": "[encoded data removed]",
      "text/plain": [
       "<Figure size 432x288 with 1 Axes>"
      ]
     },
     "metadata": {
      "needs_background": "light"
     },
     "output_type": "display_data"
    }
   ],
   "source": [
    "accuracy_list = []\n",
    "\n",
    "for _V in range(2, 11):\n",
    "    KernelM = Kernel(V=_V)\n",
    "    feature, target = KNNM.preprocess(data)\n",
    "    train_x, train_t, test_x, test_t = KernelM.train_test_split(feature, target)\n",
    "    distances = KernelM.inference(train_x, train_t, test_x)\n",
    "    test_y = KernelM.classify(distances, train_t)\n",
    "\n",
    "    accuracy = KernelM.hit_accuracy(test_y, test_t)\n",
    "    accuracy_list.append(accuracy)\n",
    "    \n",
    "plt.plot([v for v in range(2, 11)], accuracy_list)\n",
    "\n",
    "plt.yticks(np.arange(0.3, 0.85, 0.05))\n",
    "plt.xlabel('epoch number')\n",
    "plt.ylabel('accuracy')\n",
    "\n",
    "plt.show()"
   ]
  },
  {
   "cell_type": "markdown",
   "metadata": {},
   "source": [
    "# sklearn"
   ]
  },
  {
   "cell_type": "code",
   "execution_count": 7,
   "metadata": {},
   "outputs": [],
   "source": [
    "# from sklearn import neighbors\n",
    "# from sklearn import metrics\n",
    "\n",
    "# clf = neighbors.KNeighborsClassifier(n_neighbors = 2)\n",
    "# clf.fit(train_x, train_t)\n",
    "\n",
    "# prediction = clf.predict(test_x)\n",
    "# accuracy = metrics.accuracy_score(test_t, prediction)\n",
    "\n",
    "# accuracy"
   ]
  },
  {
   "cell_type": "code",
   "execution_count": null,
   "metadata": {},
   "outputs": [],
   "source": []
  }
 ],
 "metadata": {
  "kernelspec": {
   "display_name": "Python 3",
   "language": "python",
   "name": "python3"
  },
  "language_info": {
   "codemirror_mode": {
    "name": "ipython",
    "version": 3
   },
   "file_extension": ".py",
   "mimetype": "text/x-python",
   "name": "python",
   "nbconvert_exporter": "python",
   "pygments_lexer": "ipython3",
   "version": "3.5.2"
  }
 },
 "nbformat": 4,
 "nbformat_minor": 2
}
