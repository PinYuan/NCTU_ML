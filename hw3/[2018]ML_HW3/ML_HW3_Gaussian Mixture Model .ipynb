{
 "cells": [
  {
   "cell_type": "code",
   "execution_count": 1,
   "metadata": {},
   "outputs": [],
   "source": [
    "import numpy as np\n",
    "from PIL import Image\n",
    "import prettytable as pt\n",
    "from scipy.stats import multivariate_normal\n",
    "import matplotlib.pyplot as plt"
   ]
  },
  {
   "cell_type": "code",
   "execution_count": 2,
   "metadata": {},
   "outputs": [],
   "source": [
    "class K_means:\n",
    "    def __init__(self, K=2):\n",
    "        self.K = K\n",
    "        self.max_iteration = 300\n",
    "        self.eye = np.eye(K)\n",
    "        \n",
    "    def initialize(self, data):\n",
    "        self.mu = data[np.random.choice(len(data), self.K, replace=False)]\n",
    "        self.rnk = np.ones([len(data), self.K])\n",
    "        \n",
    "    def minimize_J(self, data):\n",
    "        for it in range(self.max_iteration):\n",
    "            # pixels*\"1\"*RGB - K*RGB -> pixels*K*RGB -> pixels*K \n",
    "            dists = np.sum((data[:, None] - self.mu)**2, axis=2) \n",
    "            # pixels -> pixels*K\n",
    "            rnk = self.eye[np.argmin(dists, axis=1)] \n",
    "            \n",
    "            if np.array_equal(rnk, self.rnk): break\n",
    "            else: self.rnk = rnk\n",
    "            \n",
    "            # 分子： pixels*K*RGB -> K*RGB, 分母：K,1\n",
    "            self.mu = np.sum(rnk[:, :, None] * data[:, None], axis=0) / np.sum(rnk, axis=0)[:, None] \n",
    "        "
   ]
  },
  {
   "cell_type": "code",
   "execution_count": 3,
   "metadata": {},
   "outputs": [],
   "source": [
    "class GMM:\n",
    "    def __init__(self, K, max_iteration=100):\n",
    "        self.K = K\n",
    "        self.max_iteration = max_iteration\n",
    "        self.likelihood_records = []\n",
    "        \n",
    "    def initialize(self, k_means_rnk, k_means_mu, data):\n",
    "        self.pi = np.sum(k_means_rnk, axis=0) / len(k_means_rnk)\n",
    "        # K*RGB*RGB\n",
    "        self.cov = np.array([ np.cov(data[np.where(k_means_rnk[:, k] == 1)[0]].T) for k in range(self.K) ])\n",
    "        # pdf: K*pixels\n",
    "        self.gaussians = np.array([ multivariate_normal.pdf(data, mean=k_means_mu[k], cov=self.cov[k])*self.pi[k] for k in range(self.K) ])\n",
    "        \n",
    "    def E_step(self):\n",
    "        # K*pixels / pixels -> K*pixels -> pixels*K\n",
    "        self.gamma = (self.gaussians / np.sum(self.gaussians, axis=0)).T\n",
    "    \n",
    "    def M_step(self, data):\n",
    "        self.Nk = np.sum(self.gamma, axis=0) \n",
    "        # K*RGB <- pixels*K*RGB = pixels*K*\"1\" * pixels*\"1\"*RGB \n",
    "        # self.mu = self.gamma.T.dot(self.data)\n",
    "        self.mu = np.sum(self.gamma[:, :, None]*data[:, None], axis=0) / self.Nk[:, None]\n",
    "        # K*RGB*RGB  \n",
    "        for k in range(self.K):\n",
    "            # update cov with minivalue to prevent LinAlgError\n",
    "            self.cov[k] = (self.gamma[:, k, None]*(data - self.mu[k])).T.dot(data - self.mu[k]) / self.Nk[k] + 1e-7 * np.eye(depth)\n",
    "        self.pi = self.Nk / len(data)\n",
    "        \n",
    "    def evaulate(self, data, it):\n",
    "        for k in range(self.K):\n",
    "            try:\n",
    "                self.gaussians[k] = multivariate_normal.pdf(data, mean=self.mu[k], cov=self.cov[k])*self.pi[k] \n",
    "            except np.linalg.linalg.LinAlgError:\n",
    "                print('singular error at iteration %d' % it)\n",
    "                self.mu[k] = np.random.rand(depth)\n",
    "                temp = np.random.rand(depth, depth)\n",
    "                self.cov[k] = temp.dot(temp.T)\n",
    "                self.gaussians[k] = multivariate_normal.pdf(data, mean=self.mu[k], cov=self.cov[k])*self.pi[k]\n",
    "            \n",
    "        self.likelihood_records.append(self.log_likelihood())\n",
    "    \n",
    "    def log_likelihood(self):\n",
    "        return np.sum(np.log(np.sum(self.gaussians, axis=0)))\n",
    "    \n",
    "    def EM(self, data):\n",
    "        for it in range(self.max_iteration):\n",
    "            self.E_step()\n",
    "            self.M_step(data)\n",
    "            self.evaulate(data, it)\n",
    "            \n",
    "    def plot_likelihood_log(self):\n",
    "        plt.title('Log likelihood of GMM (k=%d)' % self.K)\n",
    "        plt.plot([i for i in range(100)], self.likelihood_records)\n",
    "        plt.savefig('problem3/images/log_likelihood_'+str(self.K)+'.png')\n",
    "        plt.show()\n",
    "        "
   ]
  },
  {
   "cell_type": "code",
   "execution_count": 4,
   "metadata": {},
   "outputs": [],
   "source": [
    "def print_RGB_table(model, _type):\n",
    "    tb = pt.PrettyTable()\n",
    "    tb.add_column(_type, [k for k in range(model.K)])\n",
    "    tb.add_column('R', [r for r in (model.mu[:, 0]*255).astype(int)])\n",
    "    tb.add_column('G', [g for g in (model.mu[:, 1]*255).astype(int)])\n",
    "    tb.add_column('B', [b for b in (model.mu[:, 2]*255).astype(int)])\n",
    "    print(\"======= K = %d (%s) =======\" % (k, _type))\n",
    "    print(tb)\n",
    "    print()\n",
    "    \n",
    "def generate_img(model, _type):\n",
    "    if _type == 'K_means':\n",
    "        new_data = (model.mu[np.where(k_means.rnk == 1)[1]]*255).astype(int)\n",
    "    else:\n",
    "        new_data = (model.mu[np.argmax(model.gaussians, axis=0)]*255).astype(int)\n",
    "        \n",
    "    disp = Image.fromarray(new_data.reshape(height, width, depth).astype('uint8'))\n",
    "    # disp.show(title=_type)\n",
    "    disp.save('problem3/images/'+_type+str(k)+'.png')"
   ]
  },
  {
   "cell_type": "code",
   "execution_count": 5,
   "metadata": {},
   "outputs": [],
   "source": [
    "img = Image.open('problem3/hw3.jpg')\n",
    "img.load()\n",
    "data = np.asarray(img, dtype='float')/255\n",
    "height, width, depth = data.shape\n",
    "data = np.reshape(data, (-1, depth)) # pixels*RGB  (width*height) = pixels"
   ]
  },
  {
   "cell_type": "code",
   "execution_count": 6,
   "metadata": {},
   "outputs": [
    {
     "name": "stdout",
     "output_type": "stream",
     "text": [
      "======= K = 2 (K_means) =======\n",
      "+---------+-----+-----+-----+\n",
      "| K_means |  R  |  G  |  B  |\n",
      "+---------+-----+-----+-----+\n",
      "|    0    | 182 | 202 | 229 |\n",
      "|    1    | 106 |  86 |  34 |\n",
      "+---------+-----+-----+-----+\n",
      "\n"
     ]
    },
    {
     "data": {
      "image/png": "[encoded data removed]",
      "text/plain": [
       "<Figure size 432x288 with 1 Axes>"
      ]
     },
     "metadata": {
      "needs_background": "light"
     },
     "output_type": "display_data"
    },
    {
     "name": "stdout",
     "output_type": "stream",
     "text": [
      "======= K = 2 (GMM) =======\n",
      "+-----+-----+-----+-----+\n",
      "| GMM |  R  |  G  |  B  |\n",
      "+-----+-----+-----+-----+\n",
      "|  0  | 182 | 205 | 235 |\n",
      "|  1  | 120 | 106 |  66 |\n",
      "+-----+-----+-----+-----+\n",
      "\n",
      "======= K = 3 (K_means) =======\n",
      "+---------+-----+-----+-----+\n",
      "| K_means |  R  |  G  |  B  |\n",
      "+---------+-----+-----+-----+\n",
      "|    0    |  66 |  60 |  45 |\n",
      "|    1    | 182 | 202 | 229 |\n",
      "|    2    | 146 | 113 |  25 |\n",
      "+---------+-----+-----+-----+\n",
      "\n"
     ]
    },
    {
     "data": {
      "image/png": "[encoded data removed]",
      "text/plain": [
       "<Figure size 432x288 with 1 Axes>"
      ]
     },
     "metadata": {
      "needs_background": "light"
     },
     "output_type": "display_data"
    },
    {
     "name": "stdout",
     "output_type": "stream",
     "text": [
      "======= K = 3 (GMM) =======\n",
      "+-----+-----+-----+-----+\n",
      "| GMM |  R  |  G  |  B  |\n",
      "+-----+-----+-----+-----+\n",
      "|  0  | 104 |  84 |  25 |\n",
      "|  1  | 182 | 205 | 235 |\n",
      "|  2  | 147 | 141 | 133 |\n",
      "+-----+-----+-----+-----+\n",
      "\n",
      "======= K = 5 (K_means) =======\n",
      "+---------+-----+-----+-----+\n",
      "| K_means |  R  |  G  |  B  |\n",
      "+---------+-----+-----+-----+\n",
      "|    0    | 184 | 206 | 233 |\n",
      "|    1    |  87 |  62 |  15 |\n",
      "|    2    |  38 |  60 |  88 |\n",
      "|    3    | 137 | 134 | 144 |\n",
      "|    4    | 154 | 119 |  16 |\n",
      "+---------+-----+-----+-----+\n",
      "\n"
     ]
    },
    {
     "data": {
      "image/png": "[encoded data removed]",
      "text/plain": [
       "<Figure size 432x288 with 1 Axes>"
      ]
     },
     "metadata": {
      "needs_background": "light"
     },
     "output_type": "display_data"
    },
    {
     "name": "stdout",
     "output_type": "stream",
     "text": [
      "======= K = 5 (GMM) =======\n",
      "+-----+-----+-----+-----+\n",
      "| GMM |  R  |  G  |  B  |\n",
      "+-----+-----+-----+-----+\n",
      "|  0  | 183 | 207 | 237 |\n",
      "|  1  | 119 |  96 |  47 |\n",
      "|  2  |  77 |  90 | 115 |\n",
      "|  3  | 184 | 200 | 220 |\n",
      "|  4  | 120 |  88 |  7  |\n",
      "+-----+-----+-----+-----+\n",
      "\n",
      "======= K = 20 (K_means) =======\n",
      "+---------+-----+-----+-----+\n",
      "| K_means |  R  |  G  |  B  |\n",
      "+---------+-----+-----+-----+\n",
      "|    0    | 171 | 197 | 227 |\n",
      "|    1    | 137 | 127 | 136 |\n",
      "|    2    | 160 | 183 | 214 |\n",
      "|    3    |  84 |  66 |  61 |\n",
      "|    4    | 182 | 186 | 191 |\n",
      "|    5    |  85 |  60 |  10 |\n",
      "|    6    | 173 | 151 |  69 |\n",
      "|    7    | 245 | 248 | 249 |\n",
      "|    8    |  57 |  75 | 106 |\n",
      "|    9    | 207 | 223 | 245 |\n",
      "|    10   |  49 |  33 |  6  |\n",
      "|    11   | 148 | 155 | 178 |\n",
      "|    12   | 109 |  98 | 104 |\n",
      "|    13   | 117 |  85 |  6  |\n",
      "|    14   | 193 | 213 | 242 |\n",
      "|    15   | 182 | 207 | 238 |\n",
      "|    16   | 120 |  95 |  41 |\n",
      "|    17   | 180 | 140 |  15 |\n",
      "|    18   | 149 | 113 |  10 |\n",
      "|    19   |  7  |  46 |  81 |\n",
      "+---------+-----+-----+-----+\n",
      "\n"
     ]
    },
    {
     "data": {
      "image/png": "[encoded data removed]",
      "text/plain": [
       "<Figure size 432x288 with 1 Axes>"
      ]
     },
     "metadata": {
      "needs_background": "light"
     },
     "output_type": "display_data"
    },
    {
     "name": "stdout",
     "output_type": "stream",
     "text": [
      "======= K = 20 (GMM) =======\n",
      "+-----+-----+-----+-----+\n",
      "| GMM |  R  |  G  |  B  |\n",
      "+-----+-----+-----+-----+\n",
      "|  0  | 173 | 201 | 231 |\n",
      "|  1  | 147 | 135 | 149 |\n",
      "|  2  | 167 | 193 | 224 |\n",
      "|  3  |  88 |  69 |  64 |\n",
      "|  4  | 189 | 202 | 213 |\n",
      "|  5  |  94 |  6  |  11 |\n",
      "|  6  | 138 | 120 |  75 |\n",
      "|  7  | 248 | 250 | 251 |\n",
      "|  8  |  60 |  77 | 110 |\n",
      "|  9  | 202 | 219 | 245 |\n",
      "|  10 | 103 |  74 |  0  |\n",
      "|  11 | 165 | 184 | 213 |\n",
      "|  12 |  52 |  74 |  91 |\n",
      "|  13 | 122 |  89 |  4  |\n",
      "|  14 | 193 | 213 | 241 |\n",
      "|  15 | 183 | 209 | 240 |\n",
      "|  16 |  96 |  72 |  20 |\n",
      "|  17 | 163 | 137 |  26 |\n",
      "|  18 | 157 | 119 |  13 |\n",
      "|  19 |  4  |  46 |  83 |\n",
      "+-----+-----+-----+-----+\n",
      "\n"
     ]
    }
   ],
   "source": [
    "K_list = [2, 3, 5, 20]# \n",
    "\n",
    "for k in K_list:\n",
    "    k_means = K_means(K=k)\n",
    "    k_means.initialize(data)\n",
    "    k_means.minimize_J(data)\n",
    "    \n",
    "    print_RGB_table(k_means, 'K_means')\n",
    "    generate_img(k_means, 'K_means')\n",
    "    \n",
    "    gmm = GMM(k)\n",
    "    gmm.initialize(k_means.rnk, k_means.mu, data)\n",
    "    gmm.EM(data)\n",
    "    gmm.plot_likelihood_log()\n",
    "    \n",
    "    print_RGB_table(gmm, 'GMM')\n",
    "    generate_img(gmm, 'GMM')"
   ]
  },
  {
   "cell_type": "code",
   "execution_count": null,
   "metadata": {},
   "outputs": [],
   "source": []
  }
 ],
 "metadata": {
  "kernelspec": {
   "display_name": "Python 3",
   "language": "python",
   "name": "python3"
  },
  "language_info": {
   "codemirror_mode": {
    "name": "ipython",
    "version": 3
   },
   "file_extension": ".py",
   "mimetype": "text/x-python",
   "name": "python",
   "nbconvert_exporter": "python",
   "pygments_lexer": "ipython3",
   "version": "3.5.2"
  }
 },
 "nbformat": 4,
 "nbformat_minor": 2
}
